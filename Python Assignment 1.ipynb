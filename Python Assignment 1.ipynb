{
 "cells": [
  {
   "cell_type": "markdown",
   "metadata": {},
   "source": [
    "1. Write a program which will find all such numbers which are divisible by 7 but are not a multiple of 5, between 2000 and 3200 (both included). The numbers obtained should be printed in a comma seperated sequence on a single line."
   ]
  },
  {
   "cell_type": "code",
   "execution_count": null,
   "metadata": {},
   "outputs": [],
   "source": [
    "x= range(1999,3201,1)\n",
    "for i in x:\n",
    "    if i% 7 == 0:\n",
    "        if i% 5 != 0:\n",
    "            print(i, end=\",\")\n",
    "        else:\n",
    "            continue"
   ]
  },
  {
   "cell_type": "markdown",
   "metadata": {},
   "source": [
    "2.Write a python program to accept the user's first name and last name and then getting them printed in reverse order with a space between first name and last name"
   ]
  },
  {
   "cell_type": "code",
   "execution_count": 3,
   "metadata": {},
   "outputs": [
    {
     "name": "stdout",
     "output_type": "stream",
     "text": [
      "Enter the first name?Ashish\n",
      "Enter the last name?Gowra\n",
      "arwoG hsihsA\n"
     ]
    }
   ],
   "source": [
    "first_name= input(\"Enter the first name?\")\n",
    "last_name= input(\"Enter the last name?\")\n",
    "full_name= (first_name + \" \" + last_name) [::-1]\n",
    "print(full_name)\n"
   ]
  },
  {
   "cell_type": "markdown",
   "metadata": {},
   "source": [
    "Write a python program to find the volume of a sphere with diameter 12 cm "
   ]
  },
  {
   "cell_type": "code",
   "execution_count": 5,
   "metadata": {},
   "outputs": [
    {
     "name": "stdout",
     "output_type": "stream",
     "text": [
      "The volume of cube is 904.778684208\n"
     ]
    }
   ],
   "source": [
    "radius = 6.0\n",
    "pi = 3.1415926535\n",
    "volume = 4/3 * pi * radius**3\n",
    "print(\"The volume of cube is\", volume)"
   ]
  },
  {
   "cell_type": "code",
   "execution_count": null,
   "metadata": {},
   "outputs": [],
   "source": []
  }
 ],
 "metadata": {
  "kernelspec": {
   "display_name": "Python 3",
   "language": "python",
   "name": "python3"
  },
  "language_info": {
   "codemirror_mode": {
    "name": "ipython",
    "version": 3
   },
   "file_extension": ".py",
   "mimetype": "text/x-python",
   "name": "python",
   "nbconvert_exporter": "python",
   "pygments_lexer": "ipython3",
   "version": "3.8.5"
  }
 },
 "nbformat": 4,
 "nbformat_minor": 4
}
