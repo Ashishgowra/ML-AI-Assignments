{
 "cells": [
  {
   "cell_type": "code",
   "execution_count": null,
   "metadata": {},
   "outputs": [],
   "source": [
    "## 1.1"
   ]
  },
  {
   "cell_type": "code",
   "execution_count": 8,
   "metadata": {},
   "outputs": [
    {
     "name": "stdout",
     "output_type": "stream",
     "text": [
      "Enter the length of 1st side 4\n",
      "Enter the length of 2nd side 5\n",
      "Enter the length of 3rd side 6\n",
      "9.921567416492215\n"
     ]
    }
   ],
   "source": [
    "class triangle:\n",
    "    def __init__(self):\n",
    "        self.side1 = int(input(\"Enter the length of 1st side \"))\n",
    "        self.side2 = int(input(\"Enter the length of 2nd side \"))\n",
    "        self.side3 = int(input(\"Enter the length of 3rd side \"))\n",
    "                               \n",
    "class area(triangle):\n",
    "    def __init__(self, *args):\n",
    "        super().__init__(*args)\n",
    "    def areaoftriangle(self):\n",
    "        s = (self.side1 + self.side2 + self.side3)/2\n",
    "        area = (s*(s-self.side1)*(s-self.side2)*(s-self.side3))**0.5\n",
    "        print(area)\n",
    "    \n",
    "obj = area()\n",
    "obj.areaoftriangle()"
   ]
  },
  {
   "cell_type": "code",
   "execution_count": null,
   "metadata": {},
   "outputs": [],
   "source": [
    "## 1.2"
   ]
  },
  {
   "cell_type": "code",
   "execution_count": 1,
   "metadata": {},
   "outputs": [
    {
     "name": "stdout",
     "output_type": "stream",
     "text": [
      "multiple\n",
      "gotit\n",
      "angry\n",
      "rabbit\n"
     ]
    }
   ],
   "source": [
    "words = ['some','multiple','gotit','live','angry','bus','rabbit']\n",
    "letterlimit = 4\n",
    "\n",
    "def long_word_check(word):\n",
    "    if (len(word) > letterlimit):\n",
    "        return True\n",
    "    else:\n",
    "        return False\n",
    "    \n",
    "wordlist = (filter(long_word_check, words))\n",
    "\n",
    "for w in wordlist:\n",
    "    print(w)\n",
    "    "
   ]
  },
  {
   "cell_type": "code",
   "execution_count": null,
   "metadata": {},
   "outputs": [],
   "source": [
    "##2.1"
   ]
  },
  {
   "cell_type": "code",
   "execution_count": 4,
   "metadata": {},
   "outputs": [
    {
     "name": "stdout",
     "output_type": "stream",
     "text": [
      "[4, 8, 5, 4, 5, 3, 6]\n"
     ]
    }
   ],
   "source": [
    "words = ['some','multiple','gotit','live','angry','bus','rabbit']\n",
    "def lengthofword(word):\n",
    "    return (len(word))\n",
    "\n",
    "length = map(lengthofword,words)\n",
    "\n",
    "lst2 =list(length)\n",
    "print(lst2)\n"
   ]
  },
  {
   "cell_type": "code",
   "execution_count": null,
   "metadata": {},
   "outputs": [],
   "source": [
    "##2.2"
   ]
  },
  {
   "cell_type": "code",
   "execution_count": 7,
   "metadata": {},
   "outputs": [
    {
     "name": "stdout",
     "output_type": "stream",
     "text": [
      "Enter the character to check if its vowel s\n",
      "False\n"
     ]
    }
   ],
   "source": [
    "def voweldecider():\n",
    "    vowels = ['a','e','i','o','u']\n",
    "    char = input(\"Enter the character to check if its vowel \")\n",
    "    if(char in vowels):\n",
    "        return True\n",
    "    else:\n",
    "        return False\n",
    "result = voweldecider()\n",
    "print(result)"
   ]
  },
  {
   "cell_type": "code",
   "execution_count": null,
   "metadata": {},
   "outputs": [],
   "source": []
  }
 ],
 "metadata": {
  "kernelspec": {
   "display_name": "Python 3",
   "language": "python",
   "name": "python3"
  },
  "language_info": {
   "codemirror_mode": {
    "name": "ipython",
    "version": 3
   },
   "file_extension": ".py",
   "mimetype": "text/x-python",
   "name": "python",
   "nbconvert_exporter": "python",
   "pygments_lexer": "ipython3",
   "version": "3.8.5"
  }
 },
 "nbformat": 4,
 "nbformat_minor": 4
}
